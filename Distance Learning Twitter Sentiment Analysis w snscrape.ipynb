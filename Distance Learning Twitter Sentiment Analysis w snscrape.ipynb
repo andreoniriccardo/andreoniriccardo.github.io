{
  "nbformat": 4,
  "nbformat_minor": 0,
  "metadata": {
    "colab": {
      "name": "Distance Learning Twitter Sentiment Analysis w snscrape.ipynb",
      "provenance": [],
      "authorship_tag": "ABX9TyMc9KMejjW/bkPqi99jrR4k",
      "include_colab_link": true
    },
    "kernelspec": {
      "name": "python3",
      "display_name": "Python 3"
    },
    "language_info": {
      "name": "python"
    }
  },
  "cells": [
    {
      "cell_type": "markdown",
      "metadata": {
        "id": "view-in-github",
        "colab_type": "text"
      },
      "source": [
        "<a href=\"https://colab.research.google.com/github/andreoniriccardo/andreoniriccardo.github.io/blob/main/Distance%20Learning%20Twitter%20Sentiment%20Analysis%20w%20snscrape.ipynb\" target=\"_parent\"><img src=\"https://colab.research.google.com/assets/colab-badge.svg\" alt=\"Open In Colab\"/></a>"
      ]
    },
    {
      "cell_type": "code",
      "source": [
        "# install snscrape\n",
        "!pip install snscrape"
      ],
      "metadata": {
        "colab": {
          "base_uri": "https://localhost:8080/"
        },
        "id": "EgTdk8P2TLni",
        "outputId": "75609328-04af-42d1-eac5-2640b09e1573"
      },
      "execution_count": 2,
      "outputs": [
        {
          "output_type": "stream",
          "name": "stdout",
          "text": [
            "Looking in indexes: https://pypi.org/simple, https://us-python.pkg.dev/colab-wheels/public/simple/\n",
            "Collecting snscrape\n",
            "  Downloading snscrape-0.3.4-py3-none-any.whl (35 kB)\n",
            "Requirement already satisfied: requests[socks] in /usr/local/lib/python3.7/dist-packages (from snscrape) (2.23.0)\n",
            "Requirement already satisfied: beautifulsoup4 in /usr/local/lib/python3.7/dist-packages (from snscrape) (4.6.3)\n",
            "Requirement already satisfied: lxml in /usr/local/lib/python3.7/dist-packages (from snscrape) (4.2.6)\n",
            "Requirement already satisfied: urllib3!=1.25.0,!=1.25.1,<1.26,>=1.21.1 in /usr/local/lib/python3.7/dist-packages (from requests[socks]->snscrape) (1.24.3)\n",
            "Requirement already satisfied: certifi>=2017.4.17 in /usr/local/lib/python3.7/dist-packages (from requests[socks]->snscrape) (2022.6.15)\n",
            "Requirement already satisfied: chardet<4,>=3.0.2 in /usr/local/lib/python3.7/dist-packages (from requests[socks]->snscrape) (3.0.4)\n",
            "Requirement already satisfied: idna<3,>=2.5 in /usr/local/lib/python3.7/dist-packages (from requests[socks]->snscrape) (2.10)\n",
            "Requirement already satisfied: PySocks!=1.5.7,>=1.5.6 in /usr/local/lib/python3.7/dist-packages (from requests[socks]->snscrape) (1.7.1)\n",
            "Installing collected packages: snscrape\n",
            "Successfully installed snscrape-0.3.4\n"
          ]
        }
      ]
    },
    {
      "cell_type": "code",
      "execution_count": 29,
      "metadata": {
        "id": "_GBUmKJxSs2G"
      },
      "outputs": [],
      "source": [
        "# import required libraries\n",
        "import snscrape.modules.twitter as sntwitter\n",
        "import pandas as pd\n",
        "from IPython.display import clear_output"
      ]
    },
    {
      "cell_type": "code",
      "source": [
        "# define function to retrieve tweets for a defined day and topic\n",
        "def fetch_tweets(query, language, from_date, to_date, n_of_tweets):\n",
        "  \n",
        "  query = str(query)\n",
        "  tweets_list = []\n",
        "  \n",
        "  query_string = query + \" lang:\" + language + \" until:\" + to_date + \" since:\" + from_date\n",
        "  i = 0\n",
        "  for tweet in sntwitter.TwitterSearchScraper(query_string).get_items():\n",
        "    i += 1\n",
        "    if len(tweets_list) == n_of_tweets:\n",
        "      break\n",
        "    else:\n",
        "      tweets_list.append([tweet.date, tweet.username, tweet.content])\n",
        "    clear_output(wait=True)\n",
        "    print(\"Getting tweet n. \", i, \"of \", n_of_tweets)\n",
        "  \n",
        "  columns = ['Time', 'User', 'Tweet']      \n",
        "  df = pd.DataFrame(tweets_list, columns=columns)\n",
        "  \n",
        "  clear_output(wait=True)\n",
        "  print(\"Adding tweets to df\")\n",
        "\n",
        "  return df"
      ],
      "metadata": {
        "id": "3CzbXMkyZf6I"
      },
      "execution_count": 33,
      "outputs": []
    },
    {
      "cell_type": "code",
      "source": [
        "# create dates array\n",
        "dates = list(pd.date_range(start='01/01/20', end='12/31/20'))\n",
        "\n",
        "def toYYYYMMDDmmmm(my_date):\n",
        "  my_date = my_date.strftime(\"%Y-%m-%d\")\n",
        "  return my_date\n",
        "\n",
        "dates_UTC = list(map(toYYYYMMDDmmmm, dates))"
      ],
      "metadata": {
        "id": "ga3ERPFpZgFm"
      },
      "execution_count": 27,
      "outputs": []
    },
    {
      "cell_type": "code",
      "source": [
        "# fetch the tweets\n",
        "\n",
        "# specity query and number of tweets per period\n",
        "query = 'distance learning'\n",
        "language = 'en'\n",
        "n_of_tweets = 500\n",
        "\n",
        "# initialize df\n",
        "columns = ['Time', 'User', 'Tweet']\n",
        "df = pd.DataFrame(columns=columns)\n",
        "\n",
        "for i in range(0, len(dates_UTC)-1):\n",
        "  # specify end date\n",
        "  from_date = dates_UTC[i]\n",
        "  to_date = dates_UTC[i+1]\n",
        "\n",
        "  current_df = fetch_tweets(query, language, from_date, to_date, n_of_tweets)\n",
        "\n",
        "  df = pd.concat([df, current_df], ignore_index=True)\n",
        "  print(i)"
      ],
      "metadata": {
        "colab": {
          "base_uri": "https://localhost:8080/"
        },
        "id": "xJg-VNMRa8Ld",
        "outputId": "73cfa941-56a6-4c27-addb-5b4f838e9970"
      },
      "execution_count": 41,
      "outputs": [
        {
          "output_type": "stream",
          "name": "stdout",
          "text": [
            "Adding tweets to df\n",
            "364\n"
          ]
        }
      ]
    },
    {
      "cell_type": "code",
      "source": [
        "df"
      ],
      "metadata": {
        "colab": {
          "base_uri": "https://localhost:8080/",
          "height": 424
        },
        "id": "4KzgYA1FUgHA",
        "outputId": "13e00e21-0f20-4757-ab9c-0335da6a2e0c"
      },
      "execution_count": 42,
      "outputs": [
        {
          "output_type": "execute_result",
          "data": {
            "text/plain": [
              "                            Time             User  \\\n",
              "0      2020-01-01 23:49:16+00:00  JJClaptonWrites   \n",
              "1      2020-01-01 20:44:20+00:00        ClientSDL   \n",
              "2      2020-01-01 19:32:55+00:00   stinkingflower   \n",
              "3      2020-01-01 15:40:08+00:00   ITGovernanceEU   \n",
              "4      2020-01-01 14:04:15+00:00   PrepperWebsite   \n",
              "...                          ...              ...   \n",
              "153438 2020-12-30 10:01:00+00:00     kidstogether   \n",
              "153439 2020-12-30 10:00:47+00:00        MLUniKent   \n",
              "153440 2020-12-30 09:58:37+00:00  jurijkovalenok1   \n",
              "153441 2020-12-30 09:55:12+00:00  teachmiddleeast   \n",
              "153442 2020-12-30 09:54:58+00:00       leisagrace   \n",
              "\n",
              "                                                    Tweet  \n",
              "0       2012: the year I finally had to give up any ho...  \n",
              "1       SDL for #EducationandTraining #Teaching #Learn...  \n",
              "2       @Ali_Davis At 58, I'm going for my 3rd Degree,...  \n",
              "3       📚 Distance learning offers you a cost effectiv...  \n",
              "4       INFOGRAPHIC: #History of Online Learning https...  \n",
              "...                                                   ...  \n",
              "153438  COVID-19 means a lot more work for families of...  \n",
              "153439  We hope you have enjoyed our series of posts r...  \n",
              "153440  @elonmusk Oh Uncle Elon Musk is here ))) A few...  \n",
              "153441  All Abu Dhabi schools to continue distance lea...  \n",
              "153442  All Abu Dhabi schools to continue distance lea...  \n",
              "\n",
              "[153443 rows x 3 columns]"
            ],
            "text/html": [
              "\n",
              "  <div id=\"df-27a0df97-4e7d-4688-ba1d-57a0c0c94020\">\n",
              "    <div class=\"colab-df-container\">\n",
              "      <div>\n",
              "<style scoped>\n",
              "    .dataframe tbody tr th:only-of-type {\n",
              "        vertical-align: middle;\n",
              "    }\n",
              "\n",
              "    .dataframe tbody tr th {\n",
              "        vertical-align: top;\n",
              "    }\n",
              "\n",
              "    .dataframe thead th {\n",
              "        text-align: right;\n",
              "    }\n",
              "</style>\n",
              "<table border=\"1\" class=\"dataframe\">\n",
              "  <thead>\n",
              "    <tr style=\"text-align: right;\">\n",
              "      <th></th>\n",
              "      <th>Time</th>\n",
              "      <th>User</th>\n",
              "      <th>Tweet</th>\n",
              "    </tr>\n",
              "  </thead>\n",
              "  <tbody>\n",
              "    <tr>\n",
              "      <th>0</th>\n",
              "      <td>2020-01-01 23:49:16+00:00</td>\n",
              "      <td>JJClaptonWrites</td>\n",
              "      <td>2012: the year I finally had to give up any ho...</td>\n",
              "    </tr>\n",
              "    <tr>\n",
              "      <th>1</th>\n",
              "      <td>2020-01-01 20:44:20+00:00</td>\n",
              "      <td>ClientSDL</td>\n",
              "      <td>SDL for #EducationandTraining #Teaching #Learn...</td>\n",
              "    </tr>\n",
              "    <tr>\n",
              "      <th>2</th>\n",
              "      <td>2020-01-01 19:32:55+00:00</td>\n",
              "      <td>stinkingflower</td>\n",
              "      <td>@Ali_Davis At 58, I'm going for my 3rd Degree,...</td>\n",
              "    </tr>\n",
              "    <tr>\n",
              "      <th>3</th>\n",
              "      <td>2020-01-01 15:40:08+00:00</td>\n",
              "      <td>ITGovernanceEU</td>\n",
              "      <td>📚 Distance learning offers you a cost effectiv...</td>\n",
              "    </tr>\n",
              "    <tr>\n",
              "      <th>4</th>\n",
              "      <td>2020-01-01 14:04:15+00:00</td>\n",
              "      <td>PrepperWebsite</td>\n",
              "      <td>INFOGRAPHIC: #History of Online Learning https...</td>\n",
              "    </tr>\n",
              "    <tr>\n",
              "      <th>...</th>\n",
              "      <td>...</td>\n",
              "      <td>...</td>\n",
              "      <td>...</td>\n",
              "    </tr>\n",
              "    <tr>\n",
              "      <th>153438</th>\n",
              "      <td>2020-12-30 10:01:00+00:00</td>\n",
              "      <td>kidstogether</td>\n",
              "      <td>COVID-19 means a lot more work for families of...</td>\n",
              "    </tr>\n",
              "    <tr>\n",
              "      <th>153439</th>\n",
              "      <td>2020-12-30 10:00:47+00:00</td>\n",
              "      <td>MLUniKent</td>\n",
              "      <td>We hope you have enjoyed our series of posts r...</td>\n",
              "    </tr>\n",
              "    <tr>\n",
              "      <th>153440</th>\n",
              "      <td>2020-12-30 09:58:37+00:00</td>\n",
              "      <td>jurijkovalenok1</td>\n",
              "      <td>@elonmusk Oh Uncle Elon Musk is here ))) A few...</td>\n",
              "    </tr>\n",
              "    <tr>\n",
              "      <th>153441</th>\n",
              "      <td>2020-12-30 09:55:12+00:00</td>\n",
              "      <td>teachmiddleeast</td>\n",
              "      <td>All Abu Dhabi schools to continue distance lea...</td>\n",
              "    </tr>\n",
              "    <tr>\n",
              "      <th>153442</th>\n",
              "      <td>2020-12-30 09:54:58+00:00</td>\n",
              "      <td>leisagrace</td>\n",
              "      <td>All Abu Dhabi schools to continue distance lea...</td>\n",
              "    </tr>\n",
              "  </tbody>\n",
              "</table>\n",
              "<p>153443 rows × 3 columns</p>\n",
              "</div>\n",
              "      <button class=\"colab-df-convert\" onclick=\"convertToInteractive('df-27a0df97-4e7d-4688-ba1d-57a0c0c94020')\"\n",
              "              title=\"Convert this dataframe to an interactive table.\"\n",
              "              style=\"display:none;\">\n",
              "        \n",
              "  <svg xmlns=\"http://www.w3.org/2000/svg\" height=\"24px\"viewBox=\"0 0 24 24\"\n",
              "       width=\"24px\">\n",
              "    <path d=\"M0 0h24v24H0V0z\" fill=\"none\"/>\n",
              "    <path d=\"M18.56 5.44l.94 2.06.94-2.06 2.06-.94-2.06-.94-.94-2.06-.94 2.06-2.06.94zm-11 1L8.5 8.5l.94-2.06 2.06-.94-2.06-.94L8.5 2.5l-.94 2.06-2.06.94zm10 10l.94 2.06.94-2.06 2.06-.94-2.06-.94-.94-2.06-.94 2.06-2.06.94z\"/><path d=\"M17.41 7.96l-1.37-1.37c-.4-.4-.92-.59-1.43-.59-.52 0-1.04.2-1.43.59L10.3 9.45l-7.72 7.72c-.78.78-.78 2.05 0 2.83L4 21.41c.39.39.9.59 1.41.59.51 0 1.02-.2 1.41-.59l7.78-7.78 2.81-2.81c.8-.78.8-2.07 0-2.86zM5.41 20L4 18.59l7.72-7.72 1.47 1.35L5.41 20z\"/>\n",
              "  </svg>\n",
              "      </button>\n",
              "      \n",
              "  <style>\n",
              "    .colab-df-container {\n",
              "      display:flex;\n",
              "      flex-wrap:wrap;\n",
              "      gap: 12px;\n",
              "    }\n",
              "\n",
              "    .colab-df-convert {\n",
              "      background-color: #E8F0FE;\n",
              "      border: none;\n",
              "      border-radius: 50%;\n",
              "      cursor: pointer;\n",
              "      display: none;\n",
              "      fill: #1967D2;\n",
              "      height: 32px;\n",
              "      padding: 0 0 0 0;\n",
              "      width: 32px;\n",
              "    }\n",
              "\n",
              "    .colab-df-convert:hover {\n",
              "      background-color: #E2EBFA;\n",
              "      box-shadow: 0px 1px 2px rgba(60, 64, 67, 0.3), 0px 1px 3px 1px rgba(60, 64, 67, 0.15);\n",
              "      fill: #174EA6;\n",
              "    }\n",
              "\n",
              "    [theme=dark] .colab-df-convert {\n",
              "      background-color: #3B4455;\n",
              "      fill: #D2E3FC;\n",
              "    }\n",
              "\n",
              "    [theme=dark] .colab-df-convert:hover {\n",
              "      background-color: #434B5C;\n",
              "      box-shadow: 0px 1px 3px 1px rgba(0, 0, 0, 0.15);\n",
              "      filter: drop-shadow(0px 1px 2px rgba(0, 0, 0, 0.3));\n",
              "      fill: #FFFFFF;\n",
              "    }\n",
              "  </style>\n",
              "\n",
              "      <script>\n",
              "        const buttonEl =\n",
              "          document.querySelector('#df-27a0df97-4e7d-4688-ba1d-57a0c0c94020 button.colab-df-convert');\n",
              "        buttonEl.style.display =\n",
              "          google.colab.kernel.accessAllowed ? 'block' : 'none';\n",
              "\n",
              "        async function convertToInteractive(key) {\n",
              "          const element = document.querySelector('#df-27a0df97-4e7d-4688-ba1d-57a0c0c94020');\n",
              "          const dataTable =\n",
              "            await google.colab.kernel.invokeFunction('convertToInteractive',\n",
              "                                                     [key], {});\n",
              "          if (!dataTable) return;\n",
              "\n",
              "          const docLinkHtml = 'Like what you see? Visit the ' +\n",
              "            '<a target=\"_blank\" href=https://colab.research.google.com/notebooks/data_table.ipynb>data table notebook</a>'\n",
              "            + ' to learn more about interactive tables.';\n",
              "          element.innerHTML = '';\n",
              "          dataTable['output_type'] = 'display_data';\n",
              "          await google.colab.output.renderOutput(dataTable, element);\n",
              "          const docLink = document.createElement('div');\n",
              "          docLink.innerHTML = docLinkHtml;\n",
              "          element.appendChild(docLink);\n",
              "        }\n",
              "      </script>\n",
              "    </div>\n",
              "  </div>\n",
              "  "
            ]
          },
          "metadata": {},
          "execution_count": 42
        }
      ]
    },
    {
      "cell_type": "code",
      "source": [
        "df['Time'].max()"
      ],
      "metadata": {
        "colab": {
          "base_uri": "https://localhost:8080/"
        },
        "id": "IUXBKjxBWOI0",
        "outputId": "062dced7-7a36-4c87-acfb-5ca718db528e"
      },
      "execution_count": 43,
      "outputs": [
        {
          "output_type": "execute_result",
          "data": {
            "text/plain": [
              "Timestamp('2020-12-30 23:58:43+0000', tz='UTC')"
            ]
          },
          "metadata": {},
          "execution_count": 43
        }
      ]
    },
    {
      "cell_type": "code",
      "source": [
        "df['Time'].min()"
      ],
      "metadata": {
        "colab": {
          "base_uri": "https://localhost:8080/"
        },
        "id": "4Bqn_6BYWfSs",
        "outputId": "f70b6897-5669-4b92-a128-de10e15ff34b"
      },
      "execution_count": 44,
      "outputs": [
        {
          "output_type": "execute_result",
          "data": {
            "text/plain": [
              "Timestamp('2020-01-01 06:23:39+0000', tz='UTC')"
            ]
          },
          "metadata": {},
          "execution_count": 44
        }
      ]
    },
    {
      "cell_type": "code",
      "source": [
        "df.to_csv('500_per_day.csv')"
      ],
      "metadata": {
        "id": "dWmZmcwLWio0"
      },
      "execution_count": 45,
      "outputs": []
    },
    {
      "cell_type": "code",
      "source": [
        ""
      ],
      "metadata": {
        "id": "7ll3BWVejo-N"
      },
      "execution_count": null,
      "outputs": []
    }
  ]
}